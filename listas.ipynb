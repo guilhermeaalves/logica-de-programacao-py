{
  "nbformat": 4,
  "nbformat_minor": 0,
  "metadata": {
    "colab": {
      "provenance": [],
      "authorship_tag": "ABX9TyODc//TaMbiPTvnbruRdK6X",
      "include_colab_link": true
    },
    "kernelspec": {
      "name": "python3",
      "display_name": "Python 3"
    },
    "language_info": {
      "name": "python"
    }
  },
  "cells": [
    {
      "cell_type": "markdown",
      "metadata": {
        "id": "view-in-github",
        "colab_type": "text"
      },
      "source": [
        "<a href=\"https://colab.research.google.com/github/guilhermeaalves/logica-programacao-py/blob/main/listas.ipynb\" target=\"_parent\"><img src=\"https://colab.research.google.com/assets/colab-badge.svg\" alt=\"Open In Colab\"/></a>"
      ]
    },
    {
      "cell_type": "markdown",
      "source": [
        "#Listas em Python"
      ],
      "metadata": {
        "id": "P7kzys9wybMb"
      }
    },
    {
      "cell_type": "markdown",
      "source": [
        "- As **listas** > são um dos quatro tipos de dados internos do Python usados ​​para armazenar coleções de dados (Como arrays no JavaScript); os outros três são Tuplas, conjuntos e dicionários, todos com pontos positivos e negativos, e usos diferentes.\n",
        "\n",
        "- **Ordenadas e mutáveis** >\n",
        "Ou seja, são organizadas em ordem sequêncial e podem ser alteradas, são parecidas com a variável \"let\" do JavaScript, porém o valor da váriavel é uma lista.\n",
        "\n",
        "- **Indexadas** >\n",
        "Cada item da lista, têm um índice, comecando apartir do [ 0 ] , ou seja, no exemplo abaixo, o 'mouse: logitech G203' teria o índice zero e o 'teclado: machenike k500 teria o índice [ 1 ] , e daí por diante.\n",
        "\n",
        "- Elas são definidas usando colchetes, como no exemplo abaixo:"
      ],
      "metadata": {
        "id": "UsK5gF67tOOJ"
      }
    },
    {
      "cell_type": "markdown",
      "source": [
        "##Exemplo de uma **lista**"
      ],
      "metadata": {
        "id": "ZEngkVtg7tNG"
      }
    },
    {
      "cell_type": "code",
      "source": [
        "meus_perifericos = ['mouse: logitech G203', 'teclado: machenike k500', 'headset: Fortrek G pro']\n",
        "print(meus_perifericos)"
      ],
      "metadata": {
        "colab": {
          "base_uri": "https://localhost:8080/"
        },
        "id": "yRXLrNJztQSJ",
        "outputId": "6709d378-3600-4084-b0e0-633d270352e3"
      },
      "execution_count": 40,
      "outputs": [
        {
          "output_type": "stream",
          "name": "stdout",
          "text": [
            "['mouse: logitech G203', 'teclado: machenike k500', 'headset: Fortrek G pro']\n"
          ]
        }
      ]
    },
    {
      "cell_type": "markdown",
      "source": [
        "##Principais métodos das **listas**\n",
        "\n"
      ],
      "metadata": {
        "id": "TpD9lIqotQ8V"
      }
    },
    {
      "cell_type": "markdown",
      "source": [
        "\n",
        "##append( ):\n",
        "\n",
        " - O método append adiciona um item **ao final da lista**, como no exemplo abaixo:\n",
        "\n",
        "\n"
      ],
      "metadata": {
        "id": "rahNP3Hm7vS4"
      }
    },
    {
      "cell_type": "code",
      "source": [
        "meus_perifericos = ['Mouse: logitech g203', 'teclado: machenike k500', 'headset: fortrek g pro']\n",
        "meus_perifericos.append('Mousepad: fortrek preto')\n",
        "print(meus_perifericos)"
      ],
      "metadata": {
        "colab": {
          "base_uri": "https://localhost:8080/"
        },
        "id": "dXJDPdw48Qr5",
        "outputId": "a8cba51b-8c1f-44da-dc88-06a94624c413"
      },
      "execution_count": 41,
      "outputs": [
        {
          "output_type": "stream",
          "name": "stdout",
          "text": [
            "['Mouse: logitech g203', 'teclado: machenike k500', 'headset: fortrek g pro', 'Mousepad: fortrek preto']\n"
          ]
        }
      ]
    },
    {
      "cell_type": "markdown",
      "source": [
        "##pop( ):\n",
        "\n",
        "- Este método remove itens da lista, por especificação do índice\n",
        "\n",
        "- Como no exemplo abaixo, que removi o item 'mouse: logitech G203'"
      ],
      "metadata": {
        "id": "QySAKybZ9CcM"
      }
    },
    {
      "cell_type": "code",
      "source": [
        "meus_perifericos.pop(0)\n",
        "print(meus_perifericos)"
      ],
      "metadata": {
        "colab": {
          "base_uri": "https://localhost:8080/"
        },
        "id": "EsDM3ePeAvUR",
        "outputId": "92a044d7-1a15-4b5e-af93-5db6d4f7d2b9"
      },
      "execution_count": 8,
      "outputs": [
        {
          "output_type": "stream",
          "name": "stdout",
          "text": [
            "['teclado: machenike k500', 'headset: Fortrek G pro', 'mousepad: Fortrek preto']\n"
          ]
        }
      ]
    },
    {
      "cell_type": "markdown",
      "source": [
        "##clear( ):\n",
        "\n",
        "- Este método é usado para limpar todos os itens da lista"
      ],
      "metadata": {
        "id": "-kjqiAYcBDwq"
      }
    },
    {
      "cell_type": "code",
      "source": [
        "meus_perifericos.clear()\n",
        "print(meus_perifericos)"
      ],
      "metadata": {
        "colab": {
          "base_uri": "https://localhost:8080/"
        },
        "id": "q8Bm29YxBV-r",
        "outputId": "affcff75-6316-4948-f752-5cda20c92501"
      },
      "execution_count": 9,
      "outputs": [
        {
          "output_type": "stream",
          "name": "stdout",
          "text": [
            "[]\n"
          ]
        }
      ]
    },
    {
      "cell_type": "markdown",
      "source": [
        "##sort( )\n",
        "\n",
        "- Este método é utilizado para ordenar os itens da lista em ordem crescente\n",
        "\n",
        "- Quando é uma lista somente de strings, ele ordena com base na **ordem lexicográfica**\n",
        "\n",
        "##Ordem lexicográfica:\n",
        "- Comparação Lexicográfica: As strings são comparadas caractere por caractere, da esquerda para a direita.\n",
        "\n",
        "- Sensibilidade a Maiúsculas e Minúsculas: Por padrão, a comparação é sensível a maiúsculas e minúsculas, onde caracteres maiúsculos são ordenados antes dos caracteres minúsculos devido aos seus valores Unicode.\n",
        "\n",
        "- Como podemos reparar no exemplo abaixo, os dois itens que começam com letras maiúsculas, vieram primeiro.\n"
      ],
      "metadata": {
        "id": "aw28CXrKBcXS"
      }
    },
    {
      "cell_type": "code",
      "source": [
        "meus_perifericos.sort()\n",
        "print(meus_perifericos)"
      ],
      "metadata": {
        "colab": {
          "base_uri": "https://localhost:8080/"
        },
        "id": "5JVqKuc8BoZg",
        "outputId": "a3e8231e-6266-44b0-f960-c6abc4f9ccbf"
      },
      "execution_count": 14,
      "outputs": [
        {
          "output_type": "stream",
          "name": "stdout",
          "text": [
            "['Mouse: logitech g203', 'Mousepad: fortrek preto', 'headset: fortrek g pro', 'teclado: machenike k500']\n"
          ]
        }
      ]
    },
    {
      "cell_type": "markdown",
      "source": [
        "##reverse( )\n",
        "\n",
        "- Este método ordena os itens da lista em ordem decrescente, o contrário do método sort( ), usando também a **ordem lexicográfica**, porém na ordem decrescente."
      ],
      "metadata": {
        "id": "lU8DWHt4D-wG"
      }
    },
    {
      "cell_type": "code",
      "source": [
        "meus_perifericos.reverse()\n",
        "print(meus_perifericos)"
      ],
      "metadata": {
        "colab": {
          "base_uri": "https://localhost:8080/"
        },
        "id": "AkGneRwZEQjZ",
        "outputId": "61b538a6-77df-42d0-b1ca-15fcdbc29c42"
      },
      "execution_count": 15,
      "outputs": [
        {
          "output_type": "stream",
          "name": "stdout",
          "text": [
            "['teclado: machenike k500', 'headset: fortrek g pro', 'Mousepad: fortrek preto', 'Mouse: logitech g203']\n"
          ]
        }
      ]
    },
    {
      "cell_type": "markdown",
      "source": [
        "##count ( )\n",
        "\n",
        "- Este método conta, quantas vezes um determinado item se repete na lista"
      ],
      "metadata": {
        "id": "usLTovyJEhGb"
      }
    },
    {
      "cell_type": "code",
      "source": [
        "print(meus_perifericos.count('Mouse: logitech g203'))"
      ],
      "metadata": {
        "colab": {
          "base_uri": "https://localhost:8080/"
        },
        "id": "iHYvk6jSEshx",
        "outputId": "dd6ec8aa-c5a8-4597-e00e-962b8ad74839"
      },
      "execution_count": 22,
      "outputs": [
        {
          "output_type": "stream",
          "name": "stdout",
          "text": [
            "1\n"
          ]
        }
      ]
    },
    {
      "cell_type": "markdown",
      "source": [
        "##remove ( )\n",
        "\n",
        "- Este método remove o item que foi especificado, da lista."
      ],
      "metadata": {
        "id": "mDXAqwqAFQND"
      }
    },
    {
      "cell_type": "code",
      "source": [
        "meus_perifericos.remove('teclado: machenike k500')\n",
        "print(meus_perifericos)"
      ],
      "metadata": {
        "colab": {
          "base_uri": "https://localhost:8080/"
        },
        "id": "uoB2sQ9bFiGf",
        "outputId": "d71118b9-9bf6-4173-9094-8644d1a801d5"
      },
      "execution_count": 42,
      "outputs": [
        {
          "output_type": "stream",
          "name": "stdout",
          "text": [
            "['Mouse: logitech g203', 'headset: fortrek g pro', 'Mousepad: fortrek preto']\n"
          ]
        }
      ]
    },
    {
      "cell_type": "markdown",
      "source": [
        "##insert ( )\n",
        "\n",
        "- Este método insere um item na lista, mas com a sua posição especificada"
      ],
      "metadata": {
        "id": "P4wFl_0XFxhk"
      }
    },
    {
      "cell_type": "code",
      "source": [
        "meus_perifericos.insert(1, 'Caixinhas de som: Havit Gaming SK205')\n",
        "print(meus_perifericos)"
      ],
      "metadata": {
        "colab": {
          "base_uri": "https://localhost:8080/"
        },
        "id": "BJHbvesKGBMA",
        "outputId": "0a69c2c5-0792-4a7e-ed5a-2e3b104eef1c"
      },
      "execution_count": 43,
      "outputs": [
        {
          "output_type": "stream",
          "name": "stdout",
          "text": [
            "['Mouse: logitech g203', 'Caixinhas de som: Havit Gaming SK205', 'headset: fortrek g pro', 'Mousepad: fortrek preto']\n"
          ]
        }
      ]
    },
    {
      "cell_type": "markdown",
      "source": [
        "##extend( )\n",
        "- Este método junta uma lista ao final da outra lista"
      ],
      "metadata": {
        "id": "JxeSN2q3JHQ9"
      }
    },
    {
      "cell_type": "code",
      "source": [
        "meu_teclado = ['Teclado: machenike k500']\n",
        "meus_perifericos.extend(meu_teclado)\n",
        "print(meus_perifericos)"
      ],
      "metadata": {
        "colab": {
          "base_uri": "https://localhost:8080/"
        },
        "id": "UImyjF8oJHHs",
        "outputId": "364b8b2a-2efa-434b-f9fd-5dcb3bae05cc"
      },
      "execution_count": 44,
      "outputs": [
        {
          "output_type": "stream",
          "name": "stdout",
          "text": [
            "['Mouse: logitech g203', 'Caixinhas de som: Havit Gaming SK205', 'headset: fortrek g pro', 'Mousepad: fortrek preto', 'Teclado: machenike k500']\n"
          ]
        }
      ]
    }
  ]
}